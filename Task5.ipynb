{
 "cells": [
  {
   "cell_type": "code",
   "execution_count": 3,
   "metadata": {},
   "outputs": [],
   "source": [
    "#Importing Spacy\n",
    "import spacy\n",
    "sp = spacy.load('en_core_web_sm')"
   ]
  },
  {
   "cell_type": "code",
   "execution_count": 16,
   "metadata": {},
   "outputs": [
    {
     "name": "stdout",
     "output_type": "stream",
     "text": [
      "Sheldon PERSON\n"
     ]
    }
   ],
   "source": [
    "#Example1\n",
    "example1 = \"In The Big Bang Theory Raj and Sheldon are friends.\"\n",
    "doc = sp(example1)\n",
    "for ent in doc.ents:\n",
    "    print(ent.text,ent.label_)"
   ]
  },
  {
   "cell_type": "code",
   "execution_count": 18,
   "metadata": {},
   "outputs": [
    {
     "name": "stdout",
     "output_type": "stream",
     "text": [
      "Ganges PERSON\n",
      "millions CARDINAL\n",
      "Ganga PERSON\n",
      "Hinduism GPE\n"
     ]
    }
   ],
   "source": [
    "#Example2\n",
    "example2 = \"The Ganges is a lifeline to millions who live along its course. It is a sacred river and worshipped as the goddess Ganga in Hinduism, I'm getting.\"\n",
    "doc = sp(example2)\n",
    "for ent in doc.ents:\n",
    "    print(ent.text,ent.label_)"
   ]
  },
  {
   "cell_type": "code",
   "execution_count": null,
   "metadata": {},
   "outputs": [],
   "source": [
    "# ORG, PERSON, GPE, CARDINAL, LOC, DATE, TIME, QUANTITY, PRODUCT, WORK_OF_ART, FAC"
   ]
  },
  {
   "cell_type": "code",
   "execution_count": 19,
   "metadata": {},
   "outputs": [],
   "source": [
    "# Querying\n",
    "locs = [(\"Omnicom\",\"IN\",\"New York\"),(\"DDB Neendham\",\"IN\",\"New York\"),(\"muskan\",\"UP\",\"Budaun\"),(\"Qwerty\",\"TNS\",\"Atlanta\"),(\"ggwp\",\"TNS\",\"Atlanta\")]"
   ]
  },
  {
   "cell_type": "code",
   "execution_count": 20,
   "metadata": {},
   "outputs": [
    {
     "name": "stdout",
     "output_type": "stream",
     "text": [
      "['Qwerty', 'ggwp']\n"
     ]
    }
   ],
   "source": [
    "query = [e1 for (e1,rel,e2) in locs if e2==\"Atlanta\"]\n",
    "print(query)"
   ]
  },
  {
   "cell_type": "code",
   "execution_count": 21,
   "metadata": {},
   "outputs": [
    {
     "name": "stdout",
     "output_type": "stream",
     "text": [
      "['muskan']\n"
     ]
    }
   ],
   "source": [
    "query2 = [e1 for (e1,rel,e2) in locs if e2==\"Budaun\"]\n",
    "print(query2)"
   ]
  },
  {
   "cell_type": "code",
   "execution_count": null,
   "metadata": {},
   "outputs": [],
   "source": []
  }
 ],
 "metadata": {
  "kernelspec": {
   "display_name": "Python 3",
   "language": "python",
   "name": "python3"
  },
  "language_info": {
   "codemirror_mode": {
    "name": "ipython",
    "version": 3
   },
   "file_extension": ".py",
   "mimetype": "text/x-python",
   "name": "python",
   "nbconvert_exporter": "python",
   "pygments_lexer": "ipython3",
   "version": "3.7.7"
  }
 },
 "nbformat": 4,
 "nbformat_minor": 4
}
